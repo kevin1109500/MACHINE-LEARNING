{
  "metadata": {
    "kernelspec": {
      "language": "python",
      "display_name": "Python 3",
      "name": "python3"
    },
    "language_info": {
      "name": "python",
      "version": "3.7.12",
      "mimetype": "text/x-python",
      "codemirror_mode": {
        "name": "ipython",
        "version": 3
      },
      "pygments_lexer": "ipython3",
      "nbconvert_exporter": "python",
      "file_extension": ".py"
    },
    "colab": {
      "provenance": [],
      "include_colab_link": true
    }
  },
  "nbformat_minor": 0,
  "nbformat": 4,
  "cells": [
    {
      "cell_type": "markdown",
      "metadata": {
        "id": "view-in-github",
        "colab_type": "text"
      },
      "source": [
        "<a href=\"https://colab.research.google.com/github/kevin1109500/MACHINE-LEARNING/blob/main/HEALTHCARE_PROVIDER_FRAUD.ipynb\" target=\"_parent\"><img src=\"https://colab.research.google.com/assets/colab-badge.svg\" alt=\"Open In Colab\"/></a>"
      ]
    },
    {
      "cell_type": "code",
      "source": [
        "import numpy as np\n",
        "import pandas as pd\n",
        "import matplotlib.pyplot as plt\n",
        "import seaborn as sns\n",
        "from sklearn.model_selection import train_test_split, cross_val_score, RandomizedSearchCV\n",
        "from sklearn.pipeline import Pipeline\n",
        "from sklearn.compose import ColumnTransformer\n",
        "from sklearn.impute import SimpleImputer\n",
        "from category_encoders.binary import BinaryEncoder\n",
        "from sklearn.preprocessing import StandardScaler\n",
        "from sklearn.svm import SVC\n",
        "from sklearn.ensemble import RandomForestClassifier\n",
        "from sklearn.neighbors import KNeighborsClassifier\n",
        "from sklearn.tree import DecisionTreeClassifier\n",
        "from sklearn.linear_model import LogisticRegression\n",
        "from xgboost import XGBClassifier\n",
        "from statistics import mean"
      ],
      "metadata": {
        "execution": {
          "iopub.status.busy": "2023-03-24T05:32:32.739370Z",
          "iopub.execute_input": "2023-03-24T05:32:32.739905Z",
          "iopub.status.idle": "2023-03-24T05:32:32.750786Z",
          "shell.execute_reply.started": "2023-03-24T05:32:32.739859Z",
          "shell.execute_reply": "2023-03-24T05:32:32.749106Z"
        },
        "trusted": true,
        "id": "n3Y1D1tn2kLE"
      },
      "execution_count": null,
      "outputs": []
    },
    {
      "cell_type": "markdown",
      "source": [
        "Pre-processing Training data"
      ],
      "metadata": {
        "id": "9O334sHX2kLH"
      }
    },
    {
      "cell_type": "code",
      "source": [
        "# #Load Train Dataset\n",
        "\n",
        "Train=pd.read_csv(\"../input/healthcare-provider-fraud-detection-analysis/Train-1542865627584.csv\")\n",
        "Train_Beneficiarydata=pd.read_csv(\"../input/healthcare-provider-fraud-detection-analysis/Train_Beneficiarydata-1542865627584.csv\")\n",
        "Train_Inpatientdata=pd.read_csv(\"../input/healthcare-provider-fraud-detection-analysis/Train_Inpatientdata-1542865627584.csv\")\n",
        "Train_Outpatientdata=pd.read_csv(\"../input/healthcare-provider-fraud-detection-analysis/Train_Outpatientdata-1542865627584.csv\")\n",
        "\n",
        "# Load Test Dataset\n",
        "\n",
        "Test=pd.read_csv(\"../input/healthcare-provider-fraud-detection-analysis/Test-1542969243754.csv\")\n",
        "Test_Beneficiarydata=pd.read_csv(\"../input/healthcare-provider-fraud-detection-analysis/Test_Beneficiarydata-1542969243754.csv\")\n",
        "Test_Inpatientdata=pd.read_csv(\"../input/healthcare-provider-fraud-detection-analysis/Test_Inpatientdata-1542969243754.csv\")\n",
        "Test_Outpatientdata=pd.read_csv(\"../input/healthcare-provider-fraud-detection-analysis/Test_Outpatientdata-1542969243754.csv\")"
      ],
      "metadata": {
        "execution": {
          "iopub.status.busy": "2023-03-24T05:31:31.865427Z",
          "iopub.execute_input": "2023-03-24T05:31:31.865786Z",
          "iopub.status.idle": "2023-03-24T05:31:35.613344Z",
          "shell.execute_reply.started": "2023-03-24T05:31:31.865750Z",
          "shell.execute_reply": "2023-03-24T05:31:35.612136Z"
        },
        "trusted": true,
        "id": "EeHfYyZO2kLJ"
      },
      "execution_count": null,
      "outputs": []
    },
    {
      "cell_type": "code",
      "source": [
        "#merge all training data.\n",
        "df_train = Train.merge(Train_Inpatientdata, how = 'left', on = 'Provider')\n",
        "df_train = df_train.merge(Train_Outpatientdata, how = 'left', on = ['Provider', 'BeneID', 'ClaimID'])\n",
        "df_train = df_train.merge(Train_Beneficiarydata, how = 'left', on = 'BeneID')"
      ],
      "metadata": {
        "execution": {
          "iopub.status.busy": "2023-03-24T05:31:35.614804Z",
          "iopub.execute_input": "2023-03-24T05:31:35.615181Z",
          "iopub.status.idle": "2023-03-24T05:31:37.795488Z",
          "shell.execute_reply.started": "2023-03-24T05:31:35.615146Z",
          "shell.execute_reply": "2023-03-24T05:31:37.794333Z"
        },
        "trusted": true,
        "id": "5m6OHj_b2kLJ"
      },
      "execution_count": null,
      "outputs": []
    },
    {
      "cell_type": "code",
      "source": [
        "#Creating new columns for number of claims\n",
        "df_train[['ClmDiagnosisCode_1_x', 'ClmDiagnosisCode_2_x', 'ClmDiagnosisCode_3_x', 'ClmDiagnosisCode_4_x', 'ClmDiagnosisCode_5_x', 'ClmDiagnosisCode_6_x', 'ClmDiagnosisCode_7_x', 'ClmDiagnosisCode_8_x', 'ClmDiagnosisCode_9_x', 'ClmDiagnosisCode_10_x']] = df_train[['ClmDiagnosisCode_1_x', 'ClmDiagnosisCode_2_x', 'ClmDiagnosisCode_3_x', 'ClmDiagnosisCode_4_x', 'ClmDiagnosisCode_5_x', 'ClmDiagnosisCode_6_x', 'ClmDiagnosisCode_7_x', 'ClmDiagnosisCode_8_x', 'ClmDiagnosisCode_9_x', 'ClmDiagnosisCode_10_x']].where(~df_train[['ClmDiagnosisCode_1_x', 'ClmDiagnosisCode_2_x', 'ClmDiagnosisCode_3_x', 'ClmDiagnosisCode_4_x', 'ClmDiagnosisCode_5_x', 'ClmDiagnosisCode_6_x', 'ClmDiagnosisCode_7_x', 'ClmDiagnosisCode_8_x', 'ClmDiagnosisCode_9_x', 'ClmDiagnosisCode_10_x']].notna(), 1)\n",
        "df_train[['ClmDiagnosisCode_1_x', 'ClmDiagnosisCode_2_x', 'ClmDiagnosisCode_3_x', 'ClmDiagnosisCode_4_x', 'ClmDiagnosisCode_5_x', 'ClmDiagnosisCode_6_x', 'ClmDiagnosisCode_7_x', 'ClmDiagnosisCode_8_x', 'ClmDiagnosisCode_9_x', 'ClmDiagnosisCode_10_x']] = df_train[['ClmDiagnosisCode_1_x', 'ClmDiagnosisCode_2_x', 'ClmDiagnosisCode_3_x', 'ClmDiagnosisCode_4_x', 'ClmDiagnosisCode_5_x', 'ClmDiagnosisCode_6_x', 'ClmDiagnosisCode_7_x', 'ClmDiagnosisCode_8_x', 'ClmDiagnosisCode_9_x', 'ClmDiagnosisCode_10_x']].where(df_train[['ClmDiagnosisCode_1_x', 'ClmDiagnosisCode_2_x', 'ClmDiagnosisCode_3_x', 'ClmDiagnosisCode_4_x', 'ClmDiagnosisCode_5_x', 'ClmDiagnosisCode_6_x', 'ClmDiagnosisCode_7_x', 'ClmDiagnosisCode_8_x', 'ClmDiagnosisCode_9_x', 'ClmDiagnosisCode_10_x']].notna(), 0)\n",
        "df_train[['ClmDiagnosisCode_1_x', 'ClmDiagnosisCode_2_x', 'ClmDiagnosisCode_3_x', 'ClmDiagnosisCode_4_x', 'ClmDiagnosisCode_5_x', 'ClmDiagnosisCode_6_x', 'ClmDiagnosisCode_7_x', 'ClmDiagnosisCode_8_x', 'ClmDiagnosisCode_9_x', 'ClmDiagnosisCode_10_x']] = df_train[['ClmDiagnosisCode_1_x', 'ClmDiagnosisCode_2_x', 'ClmDiagnosisCode_3_x', 'ClmDiagnosisCode_4_x', 'ClmDiagnosisCode_5_x', 'ClmDiagnosisCode_6_x', 'ClmDiagnosisCode_7_x', 'ClmDiagnosisCode_8_x', 'ClmDiagnosisCode_9_x', 'ClmDiagnosisCode_10_x']].astype('int64')\n",
        "claim_diagnose = []\n",
        "\n",
        "for i in range(len(df_train)):\n",
        "    claim_diagnose.append(df_train['ClmDiagnosisCode_1_x'][i]+ df_train['ClmDiagnosisCode_2_x'][i]+ df_train['ClmDiagnosisCode_3_x'][i]+ df_train['ClmDiagnosisCode_4_x'][i]+ df_train['ClmDiagnosisCode_5_x'][i]+ df_train['ClmDiagnosisCode_6_x'][i]+ df_train['ClmDiagnosisCode_7_x'][i]+df_train['ClmDiagnosisCode_8_x'][i]+  df_train['ClmDiagnosisCode_9_x'][i]+ df_train['ClmDiagnosisCode_10_x'][i])\n",
        "\n",
        "df_train['num_claim_diagnose_in'] = claim_diagnose\n",
        "df_train.drop(columns = ['ClmDiagnosisCode_1_x', 'ClmDiagnosisCode_2_x', 'ClmDiagnosisCode_3_x', 'ClmDiagnosisCode_4_x', 'ClmDiagnosisCode_5_x', 'ClmDiagnosisCode_6_x', 'ClmDiagnosisCode_7_x', 'ClmDiagnosisCode_8_x', 'ClmDiagnosisCode_9_x', 'ClmDiagnosisCode_10_x'], axis = 1, inplace = True)\n",
        "df_train[['ClmDiagnosisCode_1_y', 'ClmDiagnosisCode_2_y', 'ClmDiagnosisCode_3_y', 'ClmDiagnosisCode_4_y', 'ClmDiagnosisCode_5_y', 'ClmDiagnosisCode_6_y', 'ClmDiagnosisCode_7_y', 'ClmDiagnosisCode_8_y', 'ClmDiagnosisCode_9_y', 'ClmDiagnosisCode_10_y']] = df_train[['ClmDiagnosisCode_1_y', 'ClmDiagnosisCode_2_y', 'ClmDiagnosisCode_3_y', 'ClmDiagnosisCode_4_y', 'ClmDiagnosisCode_5_y', 'ClmDiagnosisCode_6_y', 'ClmDiagnosisCode_7_y', 'ClmDiagnosisCode_8_y', 'ClmDiagnosisCode_9_y', 'ClmDiagnosisCode_10_y']].where(~df_train[['ClmDiagnosisCode_1_y', 'ClmDiagnosisCode_2_y', 'ClmDiagnosisCode_3_y', 'ClmDiagnosisCode_4_y', 'ClmDiagnosisCode_5_y', 'ClmDiagnosisCode_6_y', 'ClmDiagnosisCode_7_y', 'ClmDiagnosisCode_8_y', 'ClmDiagnosisCode_9_y', 'ClmDiagnosisCode_10_y']].notna(), 1)\n",
        "df_train[['ClmDiagnosisCode_1_y', 'ClmDiagnosisCode_2_y', 'ClmDiagnosisCode_3_y', 'ClmDiagnosisCode_4_y', 'ClmDiagnosisCode_5_y', 'ClmDiagnosisCode_6_y', 'ClmDiagnosisCode_7_y', 'ClmDiagnosisCode_8_y', 'ClmDiagnosisCode_9_y', 'ClmDiagnosisCode_10_y']] = df_train[['ClmDiagnosisCode_1_y', 'ClmDiagnosisCode_2_y', 'ClmDiagnosisCode_3_y', 'ClmDiagnosisCode_4_y', 'ClmDiagnosisCode_5_y', 'ClmDiagnosisCode_6_y', 'ClmDiagnosisCode_7_y', 'ClmDiagnosisCode_8_y', 'ClmDiagnosisCode_9_y', 'ClmDiagnosisCode_10_y']].where(df_train[['ClmDiagnosisCode_1_y', 'ClmDiagnosisCode_2_y', 'ClmDiagnosisCode_3_y', 'ClmDiagnosisCode_4_y', 'ClmDiagnosisCode_5_y', 'ClmDiagnosisCode_6_y', 'ClmDiagnosisCode_7_y', 'ClmDiagnosisCode_8_y', 'ClmDiagnosisCode_9_y', 'ClmDiagnosisCode_10_y']].notna(), 0)\n",
        "df_train[['ClmDiagnosisCode_1_y', 'ClmDiagnosisCode_2_y', 'ClmDiagnosisCode_3_y', 'ClmDiagnosisCode_4_y', 'ClmDiagnosisCode_5_y', 'ClmDiagnosisCode_6_y', 'ClmDiagnosisCode_7_y', 'ClmDiagnosisCode_8_y', 'ClmDiagnosisCode_9_y', 'ClmDiagnosisCode_10_y']] = df_train[['ClmDiagnosisCode_1_y', 'ClmDiagnosisCode_2_y', 'ClmDiagnosisCode_3_y', 'ClmDiagnosisCode_4_y', 'ClmDiagnosisCode_5_y', 'ClmDiagnosisCode_6_y', 'ClmDiagnosisCode_7_y', 'ClmDiagnosisCode_8_y', 'ClmDiagnosisCode_9_y', 'ClmDiagnosisCode_10_y']].astype('int64')\n",
        "\n",
        "claim_diagnose = []\n",
        "for i in range(len(df_train)):\n",
        "    claim_diagnose.append(df_train['ClmDiagnosisCode_1_y'][i]+ df_train['ClmDiagnosisCode_2_y'][i]+ df_train['ClmDiagnosisCode_3_y'][i]+ df_train['ClmDiagnosisCode_4_y'][i]+ df_train['ClmDiagnosisCode_5_y'][i]+ df_train['ClmDiagnosisCode_6_y'][i]+ df_train['ClmDiagnosisCode_7_y'][i]+df_train['ClmDiagnosisCode_8_y'][i]+  df_train['ClmDiagnosisCode_9_y'][i]+ df_train['ClmDiagnosisCode_10_y'][i])\n",
        "\n",
        "df_train['num_claim_diagnose_out'] = claim_diagnose\n",
        "df_train.drop(columns = ['ClmDiagnosisCode_1_y', 'ClmDiagnosisCode_2_y', 'ClmDiagnosisCode_3_y', 'ClmDiagnosisCode_4_y', 'ClmDiagnosisCode_5_y', 'ClmDiagnosisCode_6_y', 'ClmDiagnosisCode_7_y', 'ClmDiagnosisCode_8_y', 'ClmDiagnosisCode_9_y', 'ClmDiagnosisCode_10_y'], axis = 1, inplace = True)"
      ],
      "metadata": {
        "execution": {
          "iopub.status.busy": "2023-03-24T05:31:37.798713Z",
          "iopub.execute_input": "2023-03-24T05:31:37.799656Z",
          "iopub.status.idle": "2023-03-24T05:31:45.226748Z",
          "shell.execute_reply.started": "2023-03-24T05:31:37.799586Z",
          "shell.execute_reply": "2023-03-24T05:31:45.225259Z"
        },
        "trusted": true,
        "id": "uyzhq-u82kLJ"
      },
      "execution_count": null,
      "outputs": []
    },
    {
      "cell_type": "code",
      "source": [
        "df_train[['ClmProcedureCode_1_x', 'ClmProcedureCode_2_x', 'ClmProcedureCode_3_x', 'ClmProcedureCode_4_x', 'ClmProcedureCode_5_x']] = df_train[['ClmProcedureCode_1_x', 'ClmProcedureCode_2_x', 'ClmProcedureCode_3_x', 'ClmProcedureCode_4_x', 'ClmProcedureCode_5_x']].where(~df_train[['ClmProcedureCode_1_x', 'ClmProcedureCode_2_x', 'ClmProcedureCode_3_x', 'ClmProcedureCode_4_x', 'ClmProcedureCode_5_x']].notna(), 1)\n",
        "df_train[['ClmProcedureCode_1_x', 'ClmProcedureCode_2_x', 'ClmProcedureCode_3_x', 'ClmProcedureCode_4_x', 'ClmProcedureCode_5_x']] = df_train[['ClmProcedureCode_1_x', 'ClmProcedureCode_2_x', 'ClmProcedureCode_3_x', 'ClmProcedureCode_4_x', 'ClmProcedureCode_5_x']].where(df_train[['ClmProcedureCode_1_x', 'ClmProcedureCode_2_x', 'ClmProcedureCode_3_x', 'ClmProcedureCode_4_x', 'ClmProcedureCode_5_x']].notna(), 0)\n",
        "df_train[['ClmProcedureCode_1_x', 'ClmProcedureCode_2_x', 'ClmProcedureCode_3_x', 'ClmProcedureCode_4_x', 'ClmProcedureCode_5_x']] = df_train[['ClmProcedureCode_1_x', 'ClmProcedureCode_2_x', 'ClmProcedureCode_3_x', 'ClmProcedureCode_4_x', 'ClmProcedureCode_5_x']].astype('int64')\n",
        "claim_procedure = []\n",
        "\n",
        "for i in range(len(df_train)):\n",
        "    claim_procedure.append(df_train['ClmProcedureCode_1_x'][i]+ df_train['ClmProcedureCode_2_x'][i]+ df_train['ClmProcedureCode_3_x'][i]+ df_train['ClmProcedureCode_4_x'][i]+ df_train['ClmProcedureCode_5_x'][i])\n",
        "\n",
        "df_train['num_claim_procedure_in'] = claim_procedure\n",
        "df_train.drop(columns = ['ClmProcedureCode_1_x', 'ClmProcedureCode_2_x', 'ClmProcedureCode_3_x', 'ClmProcedureCode_4_x', 'ClmProcedureCode_5_x'], axis = 1, inplace = True)\n",
        "df_train[['ClmProcedureCode_1_y', 'ClmProcedureCode_2_y', 'ClmProcedureCode_3_y', 'ClmProcedureCode_4_y', 'ClmProcedureCode_5_y']] = df_train[['ClmProcedureCode_1_y', 'ClmProcedureCode_2_y', 'ClmProcedureCode_3_y', 'ClmProcedureCode_4_y', 'ClmProcedureCode_5_y']].where(~df_train[['ClmProcedureCode_1_y', 'ClmProcedureCode_2_y', 'ClmProcedureCode_3_y', 'ClmProcedureCode_4_y', 'ClmProcedureCode_5_y']].notna(), 1)\n",
        "df_train[['ClmProcedureCode_1_y', 'ClmProcedureCode_2_y', 'ClmProcedureCode_3_y', 'ClmProcedureCode_4_y', 'ClmProcedureCode_5_y']] = df_train[['ClmProcedureCode_1_y', 'ClmProcedureCode_2_y', 'ClmProcedureCode_3_y', 'ClmProcedureCode_4_y', 'ClmProcedureCode_5_y']].where(df_train[['ClmProcedureCode_1_y', 'ClmProcedureCode_2_y', 'ClmProcedureCode_3_y', 'ClmProcedureCode_4_y', 'ClmProcedureCode_5_y']].notna(), 0)\n",
        "df_train[['ClmProcedureCode_1_y', 'ClmProcedureCode_2_y', 'ClmProcedureCode_3_y', 'ClmProcedureCode_4_y', 'ClmProcedureCode_5_y']] = df_train[['ClmProcedureCode_1_y', 'ClmProcedureCode_2_y', 'ClmProcedureCode_3_y', 'ClmProcedureCode_4_y', 'ClmProcedureCode_5_y']].astype('int64')\n",
        "claim_procedure = []\n",
        "\n",
        "for i in range(len(df_train)):\n",
        "    claim_procedure.append(df_train['ClmProcedureCode_1_y'][i]+ df_train['ClmProcedureCode_2_y'][i]+ df_train['ClmProcedureCode_3_y'][i]+ df_train['ClmProcedureCode_4_y'][i]+ df_train['ClmProcedureCode_5_y'][i])\n",
        "\n",
        "df_train['num_claim_procedure_out'] = claim_procedure\n",
        "df_train.drop(columns = ['ClmProcedureCode_1_y', 'ClmProcedureCode_2_y', 'ClmProcedureCode_3_y', 'ClmProcedureCode_4_y', 'ClmProcedureCode_5_y'], axis = 1, inplace = True)"
      ],
      "metadata": {
        "execution": {
          "iopub.status.busy": "2023-03-24T05:31:45.228647Z",
          "iopub.execute_input": "2023-03-24T05:31:45.229440Z",
          "iopub.status.idle": "2023-03-24T05:31:48.750708Z",
          "shell.execute_reply.started": "2023-03-24T05:31:45.229386Z",
          "shell.execute_reply": "2023-03-24T05:31:48.749405Z"
        },
        "trusted": true,
        "id": "KE6Rub1n2kLL"
      },
      "execution_count": null,
      "outputs": []
    },
    {
      "cell_type": "code",
      "source": [
        "#Mapping common physicians\n",
        "df_train[['AttendingPhysician_x', 'OperatingPhysician_x', 'OtherPhysician_x']] = df_train[['AttendingPhysician_x', 'OperatingPhysician_x', 'OtherPhysician_x']].where(~df_train[['AttendingPhysician_x', 'OperatingPhysician_x', 'OtherPhysician_x']].notna(), 1)\n",
        "df_train[['AttendingPhysician_x', 'OperatingPhysician_x', 'OtherPhysician_x']] = df_train[['AttendingPhysician_x', 'OperatingPhysician_x', 'OtherPhysician_x']].where(df_train[['AttendingPhysician_x', 'OperatingPhysician_x', 'OtherPhysician_x']].notna(), 0)\n",
        "df_train[['AttendingPhysician_y', 'OperatingPhysician_y', 'OtherPhysician_y']] = df_train[['AttendingPhysician_y', 'OperatingPhysician_y', 'OtherPhysician_y']].where(~df_train[['AttendingPhysician_y', 'OperatingPhysician_y', 'OtherPhysician_y']].notna(), 1)\n",
        "df_train[['AttendingPhysician_y', 'OperatingPhysician_y', 'OtherPhysician_y']] = df_train[['AttendingPhysician_y', 'OperatingPhysician_y', 'OtherPhysician_y']].where(df_train[['AttendingPhysician_y', 'OperatingPhysician_y', 'OtherPhysician_y']].notna(), 0)\n",
        "\n",
        "df_train[['AttendingPhysician_x', 'OperatingPhysician_x', 'OtherPhysician_x']] = df_train[['AttendingPhysician_x', 'OperatingPhysician_x', 'OtherPhysician_x']].astype('int64')\n",
        "df_train[['AttendingPhysician_y', 'OperatingPhysician_y', 'OtherPhysician_y']] = df_train[['AttendingPhysician_y', 'OperatingPhysician_y', 'OtherPhysician_y']].astype('int64')"
      ],
      "metadata": {
        "execution": {
          "iopub.status.busy": "2023-03-24T05:31:48.752122Z",
          "iopub.execute_input": "2023-03-24T05:31:48.752466Z",
          "iopub.status.idle": "2023-03-24T05:31:48.897197Z",
          "shell.execute_reply.started": "2023-03-24T05:31:48.752432Z",
          "shell.execute_reply": "2023-03-24T05:31:48.895933Z"
        },
        "trusted": true,
        "id": "9qifEcet2kLL"
      },
      "execution_count": null,
      "outputs": []
    },
    {
      "cell_type": "code",
      "source": [
        "df_train = df_train.replace({'ChronicCond_Alzheimer': 2, 'ChronicCond_Heartfailure': 2, 'ChronicCond_KidneyDisease': 2,\n",
        "                           'ChronicCond_Cancer': 2, 'ChronicCond_ObstrPulmonary': 2, 'ChronicCond_Depression': 2,\n",
        "                           'ChronicCond_Diabetes': 2, 'ChronicCond_IschemicHeart': 2, 'ChronicCond_Osteoporasis': 2,\n",
        "                           'ChronicCond_rheumatoidarthritis': 2, 'ChronicCond_stroke': 2 }, 0)"
      ],
      "metadata": {
        "execution": {
          "iopub.status.busy": "2023-03-24T05:31:48.898852Z",
          "iopub.execute_input": "2023-03-24T05:31:48.899983Z",
          "iopub.status.idle": "2023-03-24T05:31:48.929441Z",
          "shell.execute_reply.started": "2023-03-24T05:31:48.899925Z",
          "shell.execute_reply": "2023-03-24T05:31:48.928171Z"
        },
        "trusted": true,
        "id": "0nWqTYkH2kLL"
      },
      "execution_count": null,
      "outputs": []
    },
    {
      "cell_type": "code",
      "source": [
        "#Dropping unneccessary columns\n",
        "df_train = df_train.groupby(['Provider', 'PotentialFraud'],as_index=False).agg('sum')\n",
        "df_train.drop(columns = ['Gender', 'Race', 'State', 'County'], inplace = True, axis = 1)"
      ],
      "metadata": {
        "execution": {
          "iopub.status.busy": "2023-03-24T05:31:48.931190Z",
          "iopub.execute_input": "2023-03-24T05:31:48.931657Z",
          "iopub.status.idle": "2023-03-24T05:31:48.983095Z",
          "shell.execute_reply.started": "2023-03-24T05:31:48.931588Z",
          "shell.execute_reply": "2023-03-24T05:31:48.981111Z"
        },
        "trusted": true,
        "id": "7KXV_Hd42kLM"
      },
      "execution_count": null,
      "outputs": []
    },
    {
      "cell_type": "code",
      "source": [
        "#Renaming columns.\n",
        "name = []\n",
        "temp = []\n",
        "for column in df_train.columns:\n",
        "    if column[-2:] == '_x':\n",
        "        name.append(column)\n",
        "        temp.append(column[:-2] + '_In')\n",
        "\n",
        "for i in range(len(name)):\n",
        "    df_train=df_train.rename(columns = {name[i]:temp[i]})\n",
        "\n",
        "name = []\n",
        "temp = []\n",
        "for column in df_train.columns:\n",
        "    if column[-2:] == '_y':\n",
        "        name.append(column)\n",
        "        temp.append(column[:-2] + '_Out')\n",
        "\n",
        "for i in range(len(name)):\n",
        "    df_train=df_train.rename(columns = {name[i]:temp[i]})\n",
        "\n",
        "pd.set_option('display.max_columns', None)"
      ],
      "metadata": {
        "execution": {
          "iopub.status.busy": "2023-03-24T05:31:48.985193Z",
          "iopub.execute_input": "2023-03-24T05:31:48.985703Z",
          "iopub.status.idle": "2023-03-24T05:31:49.009523Z",
          "shell.execute_reply.started": "2023-03-24T05:31:48.985646Z",
          "shell.execute_reply": "2023-03-24T05:31:49.008137Z"
        },
        "trusted": true,
        "id": "TIZQ2-q12kLM"
      },
      "execution_count": null,
      "outputs": []
    },
    {
      "cell_type": "code",
      "source": [
        "#Columns that have only one value are dropped.\n",
        "deleted = []\n",
        "for feature in df_train.columns:\n",
        "    if df_train[feature].nunique() <= 1:\n",
        "        deleted.append(feature)\n",
        "\n",
        "df_train = df_train[[i for i in df_train.columns if i not in deleted]]"
      ],
      "metadata": {
        "execution": {
          "iopub.status.busy": "2023-03-24T05:31:49.011147Z",
          "iopub.execute_input": "2023-03-24T05:31:49.012479Z",
          "iopub.status.idle": "2023-03-24T05:31:49.030526Z",
          "shell.execute_reply.started": "2023-03-24T05:31:49.012431Z",
          "shell.execute_reply": "2023-03-24T05:31:49.028730Z"
        },
        "trusted": true,
        "id": "MS74N7lF2kLM"
      },
      "execution_count": null,
      "outputs": []
    },
    {
      "cell_type": "markdown",
      "source": [
        "Pre-processing Testing data similarly"
      ],
      "metadata": {
        "id": "mneB1fp12kLN"
      }
    },
    {
      "cell_type": "code",
      "source": [
        "df_test = Test.merge(Test_Inpatientdata, how = 'left', on = 'Provider')\n",
        "df_test = df_test.merge(Test_Outpatientdata, how = 'left', on = ['Provider', 'BeneID', 'ClaimID'])\n",
        "df_test = df_test.merge(Test_Beneficiarydata, how = 'left', on = 'BeneID')"
      ],
      "metadata": {
        "execution": {
          "iopub.status.busy": "2023-03-24T05:31:49.032094Z",
          "iopub.execute_input": "2023-03-24T05:31:49.033150Z",
          "iopub.status.idle": "2023-03-24T05:31:49.534462Z",
          "shell.execute_reply.started": "2023-03-24T05:31:49.033101Z",
          "shell.execute_reply": "2023-03-24T05:31:49.533069Z"
        },
        "trusted": true,
        "id": "CImOv0Sg2kLN"
      },
      "execution_count": null,
      "outputs": []
    },
    {
      "cell_type": "code",
      "source": [
        "df_test[['ClmDiagnosisCode_1_x', 'ClmDiagnosisCode_2_x', 'ClmDiagnosisCode_3_x', 'ClmDiagnosisCode_4_x', 'ClmDiagnosisCode_5_x', 'ClmDiagnosisCode_6_x', 'ClmDiagnosisCode_7_x', 'ClmDiagnosisCode_8_x', 'ClmDiagnosisCode_9_x', 'ClmDiagnosisCode_10_x']] = df_test[['ClmDiagnosisCode_1_x', 'ClmDiagnosisCode_2_x', 'ClmDiagnosisCode_3_x', 'ClmDiagnosisCode_4_x', 'ClmDiagnosisCode_5_x', 'ClmDiagnosisCode_6_x', 'ClmDiagnosisCode_7_x', 'ClmDiagnosisCode_8_x', 'ClmDiagnosisCode_9_x', 'ClmDiagnosisCode_10_x']].where(~df_test[['ClmDiagnosisCode_1_x', 'ClmDiagnosisCode_2_x', 'ClmDiagnosisCode_3_x', 'ClmDiagnosisCode_4_x', 'ClmDiagnosisCode_5_x', 'ClmDiagnosisCode_6_x', 'ClmDiagnosisCode_7_x', 'ClmDiagnosisCode_8_x', 'ClmDiagnosisCode_9_x', 'ClmDiagnosisCode_10_x']].notna(), 1)\n",
        "df_test[['ClmDiagnosisCode_1_x', 'ClmDiagnosisCode_2_x', 'ClmDiagnosisCode_3_x', 'ClmDiagnosisCode_4_x', 'ClmDiagnosisCode_5_x', 'ClmDiagnosisCode_6_x', 'ClmDiagnosisCode_7_x', 'ClmDiagnosisCode_8_x', 'ClmDiagnosisCode_9_x', 'ClmDiagnosisCode_10_x']] = df_test[['ClmDiagnosisCode_1_x', 'ClmDiagnosisCode_2_x', 'ClmDiagnosisCode_3_x', 'ClmDiagnosisCode_4_x', 'ClmDiagnosisCode_5_x', 'ClmDiagnosisCode_6_x', 'ClmDiagnosisCode_7_x', 'ClmDiagnosisCode_8_x', 'ClmDiagnosisCode_9_x', 'ClmDiagnosisCode_10_x']].where(df_test[['ClmDiagnosisCode_1_x', 'ClmDiagnosisCode_2_x', 'ClmDiagnosisCode_3_x', 'ClmDiagnosisCode_4_x', 'ClmDiagnosisCode_5_x', 'ClmDiagnosisCode_6_x', 'ClmDiagnosisCode_7_x', 'ClmDiagnosisCode_8_x', 'ClmDiagnosisCode_9_x', 'ClmDiagnosisCode_10_x']].notna(), 0)\n",
        "df_test[['ClmDiagnosisCode_1_x', 'ClmDiagnosisCode_2_x', 'ClmDiagnosisCode_3_x', 'ClmDiagnosisCode_4_x', 'ClmDiagnosisCode_5_x', 'ClmDiagnosisCode_6_x', 'ClmDiagnosisCode_7_x', 'ClmDiagnosisCode_8_x', 'ClmDiagnosisCode_9_x', 'ClmDiagnosisCode_10_x']] = df_test[['ClmDiagnosisCode_1_x', 'ClmDiagnosisCode_2_x', 'ClmDiagnosisCode_3_x', 'ClmDiagnosisCode_4_x', 'ClmDiagnosisCode_5_x', 'ClmDiagnosisCode_6_x', 'ClmDiagnosisCode_7_x', 'ClmDiagnosisCode_8_x', 'ClmDiagnosisCode_9_x', 'ClmDiagnosisCode_10_x']].astype('int64')\n",
        "\n",
        "claim_diagnose = []\n",
        "\n",
        "for i in range(len(df_test)):\n",
        "    claim_diagnose.append(df_test['ClmDiagnosisCode_1_x'][i]+ df_test['ClmDiagnosisCode_2_x'][i]+ df_test['ClmDiagnosisCode_3_x'][i]+ df_test['ClmDiagnosisCode_4_x'][i]+ df_test['ClmDiagnosisCode_5_x'][i]+ df_test['ClmDiagnosisCode_6_x'][i]+ df_test['ClmDiagnosisCode_7_x'][i]+df_test['ClmDiagnosisCode_8_x'][i]+  df_test['ClmDiagnosisCode_9_x'][i]+ df_test['ClmDiagnosisCode_10_x'][i])\n",
        "\n",
        "df_test['num_claim_diagnose_in'] = claim_diagnose\n",
        "\n",
        "df_test.drop(columns = ['ClmDiagnosisCode_1_x', 'ClmDiagnosisCode_2_x', 'ClmDiagnosisCode_3_x', 'ClmDiagnosisCode_4_x', 'ClmDiagnosisCode_5_x', 'ClmDiagnosisCode_6_x', 'ClmDiagnosisCode_7_x', 'ClmDiagnosisCode_8_x', 'ClmDiagnosisCode_9_x', 'ClmDiagnosisCode_10_x'], axis = 1, inplace = True)\n",
        "df_test[['ClmDiagnosisCode_1_y', 'ClmDiagnosisCode_2_y', 'ClmDiagnosisCode_3_y', 'ClmDiagnosisCode_4_y', 'ClmDiagnosisCode_5_y', 'ClmDiagnosisCode_6_y', 'ClmDiagnosisCode_7_y', 'ClmDiagnosisCode_8_y', 'ClmDiagnosisCode_9_y', 'ClmDiagnosisCode_10_y']] = df_test[['ClmDiagnosisCode_1_y', 'ClmDiagnosisCode_2_y', 'ClmDiagnosisCode_3_y', 'ClmDiagnosisCode_4_y', 'ClmDiagnosisCode_5_y', 'ClmDiagnosisCode_6_y', 'ClmDiagnosisCode_7_y', 'ClmDiagnosisCode_8_y', 'ClmDiagnosisCode_9_y', 'ClmDiagnosisCode_10_y']].where(~df_test[['ClmDiagnosisCode_1_y', 'ClmDiagnosisCode_2_y', 'ClmDiagnosisCode_3_y', 'ClmDiagnosisCode_4_y', 'ClmDiagnosisCode_5_y', 'ClmDiagnosisCode_6_y', 'ClmDiagnosisCode_7_y', 'ClmDiagnosisCode_8_y', 'ClmDiagnosisCode_9_y', 'ClmDiagnosisCode_10_y']].notna(), 1)\n",
        "df_test[['ClmDiagnosisCode_1_y', 'ClmDiagnosisCode_2_y', 'ClmDiagnosisCode_3_y', 'ClmDiagnosisCode_4_y', 'ClmDiagnosisCode_5_y', 'ClmDiagnosisCode_6_y', 'ClmDiagnosisCode_7_y', 'ClmDiagnosisCode_8_y', 'ClmDiagnosisCode_9_y', 'ClmDiagnosisCode_10_y']] = df_test[['ClmDiagnosisCode_1_y', 'ClmDiagnosisCode_2_y', 'ClmDiagnosisCode_3_y', 'ClmDiagnosisCode_4_y', 'ClmDiagnosisCode_5_y', 'ClmDiagnosisCode_6_y', 'ClmDiagnosisCode_7_y', 'ClmDiagnosisCode_8_y', 'ClmDiagnosisCode_9_y', 'ClmDiagnosisCode_10_y']].where(df_test[['ClmDiagnosisCode_1_y', 'ClmDiagnosisCode_2_y', 'ClmDiagnosisCode_3_y', 'ClmDiagnosisCode_4_y', 'ClmDiagnosisCode_5_y', 'ClmDiagnosisCode_6_y', 'ClmDiagnosisCode_7_y', 'ClmDiagnosisCode_8_y', 'ClmDiagnosisCode_9_y', 'ClmDiagnosisCode_10_y']].notna(), 0)\n",
        "df_test[['ClmDiagnosisCode_1_y', 'ClmDiagnosisCode_2_y', 'ClmDiagnosisCode_3_y', 'ClmDiagnosisCode_4_y', 'ClmDiagnosisCode_5_y', 'ClmDiagnosisCode_6_y', 'ClmDiagnosisCode_7_y', 'ClmDiagnosisCode_8_y', 'ClmDiagnosisCode_9_y', 'ClmDiagnosisCode_10_y']] = df_test[['ClmDiagnosisCode_1_y', 'ClmDiagnosisCode_2_y', 'ClmDiagnosisCode_3_y', 'ClmDiagnosisCode_4_y', 'ClmDiagnosisCode_5_y', 'ClmDiagnosisCode_6_y', 'ClmDiagnosisCode_7_y', 'ClmDiagnosisCode_8_y', 'ClmDiagnosisCode_9_y', 'ClmDiagnosisCode_10_y']].astype('int64')\n",
        "\n",
        "claim_diagnose = []\n",
        "\n",
        "for i in range(len(df_test)):\n",
        "    claim_diagnose.append(df_test['ClmDiagnosisCode_1_y'][i]+ df_test['ClmDiagnosisCode_2_y'][i]+ df_test['ClmDiagnosisCode_3_y'][i]+ df_test['ClmDiagnosisCode_4_y'][i]+ df_test['ClmDiagnosisCode_5_y'][i]+ df_test['ClmDiagnosisCode_6_y'][i]+ df_test['ClmDiagnosisCode_7_y'][i]+df_test['ClmDiagnosisCode_8_y'][i]+  df_test['ClmDiagnosisCode_9_y'][i]+ df_test['ClmDiagnosisCode_10_y'][i])\n",
        "\n",
        "df_test['num_claim_diagnose_out'] = claim_diagnose\n",
        "df_test.drop(columns = ['ClmDiagnosisCode_1_y', 'ClmDiagnosisCode_2_y', 'ClmDiagnosisCode_3_y', 'ClmDiagnosisCode_4_y', 'ClmDiagnosisCode_5_y', 'ClmDiagnosisCode_6_y', 'ClmDiagnosisCode_7_y', 'ClmDiagnosisCode_8_y', 'ClmDiagnosisCode_9_y', 'ClmDiagnosisCode_10_y'], axis = 1, inplace = True)\n"
      ],
      "metadata": {
        "execution": {
          "iopub.status.busy": "2023-03-24T05:31:49.536263Z",
          "iopub.execute_input": "2023-03-24T05:31:49.536620Z",
          "iopub.status.idle": "2023-03-24T05:31:51.319773Z",
          "shell.execute_reply.started": "2023-03-24T05:31:49.536585Z",
          "shell.execute_reply": "2023-03-24T05:31:51.318601Z"
        },
        "trusted": true,
        "id": "Qvi5Vozj2kLN"
      },
      "execution_count": null,
      "outputs": []
    },
    {
      "cell_type": "code",
      "source": [
        "df_test[['ClmProcedureCode_1_x', 'ClmProcedureCode_2_x', 'ClmProcedureCode_3_x', 'ClmProcedureCode_4_x', 'ClmProcedureCode_5_x']] = df_test[['ClmProcedureCode_1_x', 'ClmProcedureCode_2_x', 'ClmProcedureCode_3_x', 'ClmProcedureCode_4_x', 'ClmProcedureCode_5_x']].where(~df_test[['ClmProcedureCode_1_x', 'ClmProcedureCode_2_x', 'ClmProcedureCode_3_x', 'ClmProcedureCode_4_x', 'ClmProcedureCode_5_x']].notna(), 1)\n",
        "df_test[['ClmProcedureCode_1_x', 'ClmProcedureCode_2_x', 'ClmProcedureCode_3_x', 'ClmProcedureCode_4_x', 'ClmProcedureCode_5_x']] = df_test[['ClmProcedureCode_1_x', 'ClmProcedureCode_2_x', 'ClmProcedureCode_3_x', 'ClmProcedureCode_4_x', 'ClmProcedureCode_5_x']].where(df_test[['ClmProcedureCode_1_x', 'ClmProcedureCode_2_x', 'ClmProcedureCode_3_x', 'ClmProcedureCode_4_x', 'ClmProcedureCode_5_x']].notna(), 0)\n",
        "df_test[['ClmProcedureCode_1_x', 'ClmProcedureCode_2_x', 'ClmProcedureCode_3_x', 'ClmProcedureCode_4_x', 'ClmProcedureCode_5_x']] = df_test[['ClmProcedureCode_1_x', 'ClmProcedureCode_2_x', 'ClmProcedureCode_3_x', 'ClmProcedureCode_4_x', 'ClmProcedureCode_5_x']].astype('int64')\n",
        "claim_procedure = []\n",
        "\n",
        "for i in range(len(df_test)):\n",
        "    claim_procedure.append(df_test['ClmProcedureCode_1_x'][i]+ df_test['ClmProcedureCode_2_x'][i]+ df_test['ClmProcedureCode_3_x'][i]+ df_test['ClmProcedureCode_4_x'][i]+ df_test['ClmProcedureCode_5_x'][i])\n",
        "\n",
        "df_test['num_claim_procedure_in'] = claim_procedure\n",
        "df_test.drop(columns = ['ClmProcedureCode_1_x', 'ClmProcedureCode_2_x', 'ClmProcedureCode_3_x', 'ClmProcedureCode_4_x', 'ClmProcedureCode_5_x'], axis = 1, inplace = True)\n",
        "df_test[['ClmProcedureCode_1_y', 'ClmProcedureCode_2_y', 'ClmProcedureCode_3_y', 'ClmProcedureCode_4_y', 'ClmProcedureCode_5_y']] = df_test[['ClmProcedureCode_1_y', 'ClmProcedureCode_2_y', 'ClmProcedureCode_3_y', 'ClmProcedureCode_4_y', 'ClmProcedureCode_5_y']].where(~df_test[['ClmProcedureCode_1_y', 'ClmProcedureCode_2_y', 'ClmProcedureCode_3_y', 'ClmProcedureCode_4_y', 'ClmProcedureCode_5_y']].notna(), 1)\n",
        "df_test[['ClmProcedureCode_1_y', 'ClmProcedureCode_2_y', 'ClmProcedureCode_3_y', 'ClmProcedureCode_4_y', 'ClmProcedureCode_5_y']] = df_test[['ClmProcedureCode_1_y', 'ClmProcedureCode_2_y', 'ClmProcedureCode_3_y', 'ClmProcedureCode_4_y', 'ClmProcedureCode_5_y']].where(df_test[['ClmProcedureCode_1_y', 'ClmProcedureCode_2_y', 'ClmProcedureCode_3_y', 'ClmProcedureCode_4_y', 'ClmProcedureCode_5_y']].notna(), 0)\n",
        "df_test[['ClmProcedureCode_1_y', 'ClmProcedureCode_2_y', 'ClmProcedureCode_3_y', 'ClmProcedureCode_4_y', 'ClmProcedureCode_5_y']] = df_test[['ClmProcedureCode_1_y', 'ClmProcedureCode_2_y', 'ClmProcedureCode_3_y', 'ClmProcedureCode_4_y', 'ClmProcedureCode_5_y']].astype('int64')\n",
        "\n",
        "claim_procedure = []\n",
        "\n",
        "for i in range(len(df_test)):\n",
        "    claim_procedure.append(df_test['ClmProcedureCode_1_y'][i]+ df_test['ClmProcedureCode_2_y'][i]+ df_test['ClmProcedureCode_3_y'][i]+ df_test['ClmProcedureCode_4_y'][i]+ df_test['ClmProcedureCode_5_y'][i])\n",
        "\n",
        "df_test['num_claim_procedure_out'] = claim_procedure\n",
        "df_test.drop(columns = ['ClmProcedureCode_1_y', 'ClmProcedureCode_2_y', 'ClmProcedureCode_3_y', 'ClmProcedureCode_4_y', 'ClmProcedureCode_5_y'], axis = 1, inplace = True)"
      ],
      "metadata": {
        "execution": {
          "iopub.status.busy": "2023-03-24T05:31:51.324190Z",
          "iopub.execute_input": "2023-03-24T05:31:51.324550Z",
          "iopub.status.idle": "2023-03-24T05:31:52.192841Z",
          "shell.execute_reply.started": "2023-03-24T05:31:51.324515Z",
          "shell.execute_reply": "2023-03-24T05:31:52.191347Z"
        },
        "trusted": true,
        "id": "gXvfqhRz2kLN"
      },
      "execution_count": null,
      "outputs": []
    },
    {
      "cell_type": "code",
      "source": [
        "df_test[['AttendingPhysician_x', 'OperatingPhysician_x', 'OtherPhysician_x']] = df_test[['AttendingPhysician_x', 'OperatingPhysician_x', 'OtherPhysician_x']].where(~df_test[['AttendingPhysician_x', 'OperatingPhysician_x', 'OtherPhysician_x']].notna(), 1)\n",
        "df_test[['AttendingPhysician_x', 'OperatingPhysician_x', 'OtherPhysician_x']] = df_test[['AttendingPhysician_x', 'OperatingPhysician_x', 'OtherPhysician_x']].where(df_test[['AttendingPhysician_x', 'OperatingPhysician_x', 'OtherPhysician_x']].notna(), 0)\n",
        "df_test[['AttendingPhysician_y', 'OperatingPhysician_y', 'OtherPhysician_y']] = df_test[['AttendingPhysician_y', 'OperatingPhysician_y', 'OtherPhysician_y']].where(~df_test[['AttendingPhysician_y', 'OperatingPhysician_y', 'OtherPhysician_y']].notna(), 1)\n",
        "df_test[['AttendingPhysician_y', 'OperatingPhysician_y', 'OtherPhysician_y']] = df_test[['AttendingPhysician_y', 'OperatingPhysician_y', 'OtherPhysician_y']].where(df_test[['AttendingPhysician_y', 'OperatingPhysician_y', 'OtherPhysician_y']].notna(), 0)\n",
        "df_test[['AttendingPhysician_x', 'OperatingPhysician_x', 'OtherPhysician_x']] = df_test[['AttendingPhysician_x', 'OperatingPhysician_x', 'OtherPhysician_x']].astype('int64')\n",
        "df_test[['AttendingPhysician_y', 'OperatingPhysician_y', 'OtherPhysician_y']] = df_test[['AttendingPhysician_y', 'OperatingPhysician_y', 'OtherPhysician_y']].astype('int64')"
      ],
      "metadata": {
        "execution": {
          "iopub.status.busy": "2023-03-24T05:31:52.194405Z",
          "iopub.execute_input": "2023-03-24T05:31:52.194921Z",
          "iopub.status.idle": "2023-03-24T05:31:52.250393Z",
          "shell.execute_reply.started": "2023-03-24T05:31:52.194876Z",
          "shell.execute_reply": "2023-03-24T05:31:52.249153Z"
        },
        "trusted": true,
        "id": "iHp5Xgzg2kLN"
      },
      "execution_count": null,
      "outputs": []
    },
    {
      "cell_type": "code",
      "source": [
        "df_test = df_test.replace({'ChronicCond_Alzheimer': 2, 'ChronicCond_Heartfailure': 2, 'ChronicCond_KidneyDisease': 2,\n",
        "                           'ChronicCond_Cancer': 2, 'ChronicCond_ObstrPulmonary': 2, 'ChronicCond_Depression': 2,\n",
        "                           'ChronicCond_Diabetes': 2, 'ChronicCond_IschemicHeart': 2, 'ChronicCond_Osteoporasis': 2,\n",
        "                           'ChronicCond_rheumatoidarthritis': 2, 'ChronicCond_stroke': 2 }, 0)"
      ],
      "metadata": {
        "execution": {
          "iopub.status.busy": "2023-03-24T05:31:52.251845Z",
          "iopub.execute_input": "2023-03-24T05:31:52.252694Z",
          "iopub.status.idle": "2023-03-24T05:31:52.268499Z",
          "shell.execute_reply.started": "2023-03-24T05:31:52.252651Z",
          "shell.execute_reply": "2023-03-24T05:31:52.267198Z"
        },
        "trusted": true,
        "id": "hMMpqRJc2kLN"
      },
      "execution_count": null,
      "outputs": []
    },
    {
      "cell_type": "code",
      "source": [
        "df_test = df_test.groupby(['Provider'],as_index=False).agg('sum')\n",
        "df_test.drop(columns = ['Gender', 'Race', 'State', 'County'], inplace = True, axis = 1)"
      ],
      "metadata": {
        "execution": {
          "iopub.status.busy": "2023-03-24T05:31:52.270262Z",
          "iopub.execute_input": "2023-03-24T05:31:52.270657Z",
          "iopub.status.idle": "2023-03-24T05:31:52.290125Z",
          "shell.execute_reply.started": "2023-03-24T05:31:52.270601Z",
          "shell.execute_reply": "2023-03-24T05:31:52.288718Z"
        },
        "trusted": true,
        "id": "y11I4dFw2kLN"
      },
      "execution_count": null,
      "outputs": []
    },
    {
      "cell_type": "code",
      "source": [
        "name = []\n",
        "temp = []\n",
        "for column in df_test.columns:\n",
        "    if column[-2:] == '_x':\n",
        "        name.append(column)\n",
        "        temp.append(column[:-2] + '_In')\n",
        "\n",
        "for i in range(len(name)):\n",
        "    df_test=df_test.rename(columns = {name[i]:temp[i]})\n",
        "\n",
        "name = []\n",
        "temp = []\n",
        "for column in df_test.columns:\n",
        "    if column[-2:] == '_y':\n",
        "        name.append(column)\n",
        "        temp.append(column[:-2] + '_Out')\n",
        "\n",
        "for i in range(len(name)):\n",
        "    df_test=df_test.rename(columns = {name[i]:temp[i]})\n",
        "\n",
        "deleted = []\n",
        "for feature in df_test.columns:\n",
        "    if df_test[feature].nunique() <= 1:\n",
        "        deleted.append(feature)\n",
        "\n",
        "df_test = df_test[[i for i in df_test.columns if i not in deleted]]"
      ],
      "metadata": {
        "execution": {
          "iopub.status.busy": "2023-03-24T05:31:52.291669Z",
          "iopub.execute_input": "2023-03-24T05:31:52.292037Z",
          "iopub.status.idle": "2023-03-24T05:31:52.317777Z",
          "shell.execute_reply.started": "2023-03-24T05:31:52.291997Z",
          "shell.execute_reply": "2023-03-24T05:31:52.316281Z"
        },
        "trusted": true,
        "id": "3OZLrk9v2kLN"
      },
      "execution_count": null,
      "outputs": []
    },
    {
      "cell_type": "code",
      "source": [
        "## Fill missing values\n",
        "\n",
        "df_m = df_train.copy()\n",
        "\n",
        "num_cols = [i for i in df_m.columns if df_m[i].dtypes == 'float64' or df_m[i].dtypes == 'int64']\n",
        "\n",
        "\n",
        "for i in num_cols:\n",
        "    df_m[i].fillna(0, inplace=True)"
      ],
      "metadata": {
        "execution": {
          "iopub.status.busy": "2023-03-24T05:31:52.319672Z",
          "iopub.execute_input": "2023-03-24T05:31:52.320165Z",
          "iopub.status.idle": "2023-03-24T05:31:52.334367Z",
          "shell.execute_reply.started": "2023-03-24T05:31:52.320120Z",
          "shell.execute_reply": "2023-03-24T05:31:52.332853Z"
        },
        "trusted": true,
        "id": "xbhc2Q2t2kLO"
      },
      "execution_count": null,
      "outputs": []
    },
    {
      "cell_type": "code",
      "source": [
        "#Select columns using correlation between categorical and numerical data.\n",
        "df_m[\"PotentialFraud\"] = df_m[\"PotentialFraud\"].map({\"Yes\" : 1,\"No\" : 0})\n",
        "num_cols = num_cols + [\"PotentialFraud\"]\n",
        "corr = df_m[num_cols].corr(method='kendall')['PotentialFraud'].reset_index().rename(columns = {'index' : 'feature'})\n",
        "\n",
        "select_cols = []\n",
        "for i in corr['feature'].unique():\n",
        "    if (corr.loc[corr.feature == i, 'PotentialFraud'].values[0] >= 0.01) | (corr.loc[corr.feature == i, 'PotentialFraud'].values[0] <= -0.01):\n",
        "        select_cols.append(i)\n",
        "    else:\n",
        "        continue"
      ],
      "metadata": {
        "execution": {
          "iopub.status.busy": "2023-03-24T05:31:52.336023Z",
          "iopub.execute_input": "2023-03-24T05:31:52.336399Z",
          "iopub.status.idle": "2023-03-24T05:31:52.645358Z",
          "shell.execute_reply.started": "2023-03-24T05:31:52.336362Z",
          "shell.execute_reply": "2023-03-24T05:31:52.643904Z"
        },
        "trusted": true,
        "id": "c2SyUxGL2kLO"
      },
      "execution_count": null,
      "outputs": []
    },
    {
      "cell_type": "code",
      "source": [
        "#Use columns to be features of train data.\n",
        "df_temp = df_train[select_cols]\n",
        "\n",
        "df_temp = df_temp.loc[:,~df_temp.columns.duplicated()]"
      ],
      "metadata": {
        "execution": {
          "iopub.status.busy": "2023-03-24T05:31:52.646980Z",
          "iopub.execute_input": "2023-03-24T05:31:52.647364Z",
          "iopub.status.idle": "2023-03-24T05:31:52.656057Z",
          "shell.execute_reply.started": "2023-03-24T05:31:52.647318Z",
          "shell.execute_reply": "2023-03-24T05:31:52.654695Z"
        },
        "trusted": true,
        "id": "6KpearCc2kLO"
      },
      "execution_count": null,
      "outputs": []
    },
    {
      "cell_type": "code",
      "source": [
        "# split data into features and target and then train and test.\n",
        "df_temp[\"PotentialFraud\"] = df_temp[\"PotentialFraud\"].map({\"Yes\" : 1,\"No\" : 0})\n",
        "X_train_val = df_temp.drop(columns = \"PotentialFraud\")\n",
        "y_train_val = df_temp[\"PotentialFraud\"]\n",
        "\n",
        "\n",
        "#Use columns to be features of test data.\n",
        "select_test = [i for i in select_cols if i != 'PotentialFraud'] + [\"Provider\"]\n",
        "test = df_test[select_test]\n",
        "test = test.loc[:,~test.columns.duplicated()]\n",
        "\n",
        "id_test = test[[\"Provider\"]]\n",
        "X_input = test.drop(columns = [\"Provider\"], axis = 1)"
      ],
      "metadata": {
        "execution": {
          "iopub.status.busy": "2023-03-24T05:31:52.657519Z",
          "iopub.execute_input": "2023-03-24T05:31:52.658898Z",
          "iopub.status.idle": "2023-03-24T05:31:52.675822Z",
          "shell.execute_reply.started": "2023-03-24T05:31:52.658844Z",
          "shell.execute_reply": "2023-03-24T05:31:52.674720Z"
        },
        "trusted": true,
        "id": "JD94zvuU2kLO"
      },
      "execution_count": null,
      "outputs": []
    },
    {
      "cell_type": "code",
      "source": [
        "#Scaling data\n",
        "num_cols = [i for i in X_train_val.columns if X_train_val[i].dtypes == 'float64' or X_train_val[i].dtypes == 'int64']\n",
        "\n",
        "num_transform = Pipeline([(\"scaler\", StandardScaler())])\n",
        "\n",
        "prep_pipeline =  ColumnTransformer([('num trans', num_transform, num_cols)])"
      ],
      "metadata": {
        "execution": {
          "iopub.status.busy": "2023-03-24T05:31:52.679141Z",
          "iopub.execute_input": "2023-03-24T05:31:52.679650Z",
          "iopub.status.idle": "2023-03-24T05:31:52.691410Z",
          "shell.execute_reply.started": "2023-03-24T05:31:52.679578Z",
          "shell.execute_reply": "2023-03-24T05:31:52.689705Z"
        },
        "trusted": true,
        "id": "qHi6dZqf2kLO"
      },
      "execution_count": null,
      "outputs": []
    },
    {
      "cell_type": "markdown",
      "source": [
        "Fitting algorithms"
      ],
      "metadata": {
        "id": "-A6AW-UC2kLO"
      }
    },
    {
      "cell_type": "code",
      "source": [
        "model_lr = Pipeline([\n",
        "    ('prep', prep_pipeline),\n",
        "    ('lr',LogisticRegression(random_state = 0))\n",
        "])\n",
        "\n",
        "model_rf = Pipeline([\n",
        "    ('prep', prep_pipeline),\n",
        "    ('rf',RandomForestClassifier(random_state = 0))\n",
        "])\n",
        "\n",
        "model_xg = Pipeline([\n",
        "    ('prep', prep_pipeline),\n",
        "    ('xg',XGBClassifier(random_state = 0))\n",
        "])\n",
        "\n",
        "model_dt = Pipeline([\n",
        "    ('prep', prep_pipeline),\n",
        "    ('dt',DecisionTreeClassifier(random_state = 0))\n",
        "])\n",
        "\n",
        "model_svc = Pipeline([\n",
        "    ('prep', prep_pipeline),\n",
        "    ('svc',SVC(random_state=0))\n",
        "])\n",
        "\n",
        "model_knn = Pipeline([\n",
        "    ('prep', prep_pipeline),\n",
        "    ('knn',KNeighborsClassifier())\n",
        "])"
      ],
      "metadata": {
        "execution": {
          "iopub.status.busy": "2023-03-24T05:32:41.570242Z",
          "iopub.execute_input": "2023-03-24T05:32:41.571740Z",
          "iopub.status.idle": "2023-03-24T05:32:41.581813Z",
          "shell.execute_reply.started": "2023-03-24T05:32:41.571666Z",
          "shell.execute_reply": "2023-03-24T05:32:41.580266Z"
        },
        "trusted": true,
        "id": "gjYtg46J2kLP"
      },
      "execution_count": null,
      "outputs": []
    },
    {
      "cell_type": "code",
      "source": [
        "def model_evaluation_cv(model, metric):\n",
        "    model_cv = cross_val_score(model, X_train_val, y_train_val, cv = 5, scoring = metric)\n",
        "    return model_cv\n",
        "\n",
        "print('Accuracy Score Evaluation of SVM : ', mean(model_evaluation_cv(model_svc, 'accuracy')))\n",
        "print('Precision Score Evaluation of SVM : ', mean(model_evaluation_cv(model_svc, 'precision')))\n",
        "print('Recall Score Evaluation of SVM : ', mean(model_evaluation_cv(model_svc, 'recall')))\n",
        "print('\\n')\n",
        "print('Accuracy Score Evaluation of KNN : ', mean(model_evaluation_cv(model_knn, 'accuracy')))\n",
        "print('Precision Score Evaluation of KNN : ', mean(model_evaluation_cv(model_knn, 'precision')))\n",
        "print('Recall Score Evaluation of KNN : ', mean(model_evaluation_cv(model_knn, 'recall')))\n",
        "print('\\n')\n",
        "print('Accuracy Score Evaluation of Random Forest : ', mean(model_evaluation_cv(model_rf, 'accuracy')))\n",
        "print('Precision Score Evaluation of Random Forest : ', mean(model_evaluation_cv(model_rf, 'precision')))\n",
        "print('Recall Score Evaluation of Random Forest : ', mean(model_evaluation_cv(model_rf, 'recall')))\n",
        "print('\\n')\n",
        "print('Accuracy Score Evaluation of XGBoost : ', mean(model_evaluation_cv(model_xg, 'accuracy')))\n",
        "print('Precision Score Evaluation of XGBoost : ', mean(model_evaluation_cv(model_xg, 'precision')))\n",
        "print('Recall Score Evaluation of XGBoost : ', mean(model_evaluation_cv(model_xg, 'recall')))\n",
        "print('\\n')\n",
        "print('Accuracy Score Evaluation of Decision Tree : ', mean(model_evaluation_cv(model_dt, 'accuracy')))\n",
        "print('Precision Score Evaluation of Decision Tree : ', mean(model_evaluation_cv(model_dt, 'precision')))\n",
        "print('Recall Score Evaluation of Decision Tree : ', mean(model_evaluation_cv(model_dt, 'recall')))\n",
        "print('\\n')\n",
        "print('Accuracy Score Evaluation of Logistic Regression : ', mean(model_evaluation_cv(model_lr, 'accuracy')))\n",
        "print('Precision Score Evaluation of Logistic Regression : ', mean(model_evaluation_cv(model_lr, 'precision')))\n",
        "print('Recall Score Evaluation of Logistic Regression : ', mean(model_evaluation_cv(model_lr, 'recall')))"
      ],
      "metadata": {
        "execution": {
          "iopub.status.busy": "2023-03-24T05:34:02.373449Z",
          "iopub.execute_input": "2023-03-24T05:34:02.373987Z",
          "iopub.status.idle": "2023-03-24T05:34:30.295002Z",
          "shell.execute_reply.started": "2023-03-24T05:34:02.373941Z",
          "shell.execute_reply": "2023-03-24T05:34:30.293690Z"
        },
        "trusted": true,
        "id": "VNucTLmQ2kLP",
        "outputId": "c15bd834-6846-49ca-91b5-ff475a42af8d"
      },
      "execution_count": null,
      "outputs": [
        {
          "name": "stdout",
          "text": "Accuracy Score Evaluation of SVM :  0.9266173752310536\nPrecision Score Evaluation of SVM :  0.7639244026934484\nRecall Score Evaluation of SVM :  0.32230634828188703\n\n\nAccuracy Score Evaluation of KNN :  0.9177449168207024\nPrecision Score Evaluation of KNN :  0.6097977114961181\nRecall Score Evaluation of KNN :  0.3402057852844108\n\n\nAccuracy Score Evaluation of Random Forest :  0.9245841035120148\nPrecision Score Evaluation of Random Forest :  0.6878289982441297\nRecall Score Evaluation of Random Forest :  0.379557367501456\n\n\nAccuracy Score Evaluation of XGBoost :  0.9216266173752311\nPrecision Score Evaluation of XGBoost :  0.6291086023808372\nRecall Score Evaluation of XGBoost :  0.41122112211221123\n\n\nAccuracy Score Evaluation of Decision Tree :  0.9029574861367837\nPrecision Score Evaluation of Decision Tree :  0.48598929849031713\nRecall Score Evaluation of Decision Tree :  0.43292564550572704\n\n\nAccuracy Score Evaluation of Logistic Regression :  0.9288354898336414\nPrecision Score Evaluation of Logistic Regression :  0.7588409759337051\nRecall Score Evaluation of Logistic Regression :  0.3617744127353912\n",
          "output_type": "stream"
        }
      ]
    }
  ]
}